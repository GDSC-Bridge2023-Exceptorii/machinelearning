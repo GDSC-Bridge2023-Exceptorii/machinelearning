{
 "cells": [
  {
   "cell_type": "code",
   "execution_count": 1,
   "id": "a452973f",
   "metadata": {},
   "outputs": [
    {
     "name": "stdout",
     "output_type": "stream",
     "text": [
      "Looking in indexes: https://pypi.org/simple, https://download.pytorch.org/whl/cu117\n",
      "Requirement already satisfied: torch in c:\\users\\zrowx\\appdata\\roaming\\python\\python39\\site-packages (1.13.1)\n",
      "Requirement already satisfied: torchvision in c:\\users\\zrowx\\anaconda3\\lib\\site-packages (0.14.1+cu117)\n",
      "Requirement already satisfied: torchaudio in c:\\users\\zrowx\\anaconda3\\lib\\site-packages (0.13.1+cu117)\n",
      "Requirement already satisfied: typing-extensions in c:\\users\\zrowx\\appdata\\roaming\\python\\python39\\site-packages (from torch) (4.4.0)\n",
      "Requirement already satisfied: requests in c:\\users\\zrowx\\appdata\\roaming\\python\\python39\\site-packages (from torchvision) (2.28.2)\n",
      "Requirement already satisfied: numpy in c:\\users\\zrowx\\appdata\\roaming\\python\\python39\\site-packages (from torchvision) (1.21.2)\n",
      "Requirement already satisfied: pillow!=8.3.*,>=5.3.0 in c:\\users\\zrowx\\anaconda3\\lib\\site-packages (from torchvision) (9.4.0)\n",
      "Requirement already satisfied: idna<4,>=2.5 in c:\\users\\zrowx\\appdata\\roaming\\python\\python39\\site-packages (from requests->torchvision) (2.10)\n",
      "Requirement already satisfied: charset-normalizer<4,>=2 in c:\\users\\zrowx\\appdata\\roaming\\python\\python39\\site-packages (from requests->torchvision) (3.0.1)\n",
      "Requirement already satisfied: certifi>=2017.4.17 in c:\\users\\zrowx\\appdata\\roaming\\python\\python39\\site-packages (from requests->torchvision) (2022.12.7)\n",
      "Requirement already satisfied: urllib3<1.27,>=1.21.1 in c:\\users\\zrowx\\appdata\\roaming\\python\\python39\\site-packages (from requests->torchvision) (1.26.14)\n"
     ]
    },
    {
     "name": "stderr",
     "output_type": "stream",
     "text": [
      "WARNING: Ignoring invalid distribution -rotobuf (c:\\users\\zrowx\\appdata\\roaming\\python\\python39\\site-packages)\n",
      "WARNING: Ignoring invalid distribution -rotobuf (c:\\users\\zrowx\\appdata\\roaming\\python\\python39\\site-packages)\n",
      "WARNING: Ignoring invalid distribution -rotobuf (c:\\users\\zrowx\\appdata\\roaming\\python\\python39\\site-packages)\n",
      "WARNING: Ignoring invalid distribution -rotobuf (c:\\users\\zrowx\\appdata\\roaming\\python\\python39\\site-packages)\n",
      "WARNING: Ignoring invalid distribution -rotobuf (c:\\users\\zrowx\\appdata\\roaming\\python\\python39\\site-packages)\n",
      "WARNING: Ignoring invalid distribution -rotobuf (c:\\users\\zrowx\\appdata\\roaming\\python\\python39\\site-packages)\n"
     ]
    }
   ],
   "source": [
    "# install pytorch\n",
    "!pip install torch torchvision torchaudio --extra-index-url https://download.pytorch.org/whl/cu117"
   ]
  },
  {
   "cell_type": "code",
   "execution_count": 2,
   "id": "cf887f92",
   "metadata": {},
   "outputs": [
    {
     "name": "stdout",
     "output_type": "stream",
     "text": [
      "Requirement already satisfied: transformers in c:\\users\\zrowx\\appdata\\roaming\\python\\python39\\site-packages (4.26.0)\n",
      "Requirement already satisfied: huggingface-hub<1.0,>=0.11.0 in c:\\users\\zrowx\\appdata\\roaming\\python\\python39\\site-packages (from transformers) (0.12.0)\n",
      "Requirement already satisfied: packaging>=20.0 in c:\\users\\zrowx\\appdata\\roaming\\python\\python39\\site-packages (from transformers) (21.3)\n",
      "Requirement already satisfied: pyyaml>=5.1 in c:\\users\\zrowx\\appdata\\roaming\\python\\python39\\site-packages (from transformers) (6.0)\n",
      "Requirement already satisfied: tqdm>=4.27 in c:\\users\\zrowx\\appdata\\roaming\\python\\python39\\site-packages (from transformers) (4.64.1)\n",
      "Requirement already satisfied: numpy>=1.17 in c:\\users\\zrowx\\appdata\\roaming\\python\\python39\\site-packages (from transformers) (1.21.2)\n",
      "Requirement already satisfied: requests in c:\\users\\zrowx\\appdata\\roaming\\python\\python39\\site-packages (from transformers) (2.28.2)\n",
      "Requirement already satisfied: filelock in c:\\users\\zrowx\\appdata\\roaming\\python\\python39\\site-packages (from transformers) (3.9.0)\n",
      "Requirement already satisfied: regex!=2019.12.17 in c:\\users\\zrowx\\appdata\\roaming\\python\\python39\\site-packages (from transformers) (2022.10.31)\n",
      "Requirement already satisfied: tokenizers!=0.11.3,<0.14,>=0.11.1 in c:\\users\\zrowx\\appdata\\roaming\\python\\python39\\site-packages (from transformers) (0.13.2)\n",
      "Requirement already satisfied: typing-extensions>=3.7.4.3 in c:\\users\\zrowx\\appdata\\roaming\\python\\python39\\site-packages (from huggingface-hub<1.0,>=0.11.0->transformers) (4.4.0)\n",
      "Requirement already satisfied: pyparsing!=3.0.5,>=2.0.2 in c:\\users\\zrowx\\appdata\\roaming\\python\\python39\\site-packages (from packaging>=20.0->transformers) (2.4.7)\n",
      "Requirement already satisfied: colorama in c:\\users\\zrowx\\appdata\\roaming\\python\\python39\\site-packages (from tqdm>=4.27->transformers) (0.4.6)\n",
      "Requirement already satisfied: idna<4,>=2.5 in c:\\users\\zrowx\\appdata\\roaming\\python\\python39\\site-packages (from requests->transformers) (2.10)\n",
      "Requirement already satisfied: certifi>=2017.4.17 in c:\\users\\zrowx\\appdata\\roaming\\python\\python39\\site-packages (from requests->transformers) (2022.12.7)\n",
      "Requirement already satisfied: charset-normalizer<4,>=2 in c:\\users\\zrowx\\appdata\\roaming\\python\\python39\\site-packages (from requests->transformers) (3.0.1)\n",
      "Requirement already satisfied: urllib3<1.27,>=1.21.1 in c:\\users\\zrowx\\appdata\\roaming\\python\\python39\\site-packages (from requests->transformers) (1.26.14)\n"
     ]
    },
    {
     "name": "stderr",
     "output_type": "stream",
     "text": [
      "WARNING: Ignoring invalid distribution -rotobuf (c:\\users\\zrowx\\appdata\\roaming\\python\\python39\\site-packages)\n",
      "WARNING: Ignoring invalid distribution -rotobuf (c:\\users\\zrowx\\appdata\\roaming\\python\\python39\\site-packages)\n",
      "WARNING: Ignoring invalid distribution -rotobuf (c:\\users\\zrowx\\appdata\\roaming\\python\\python39\\site-packages)\n",
      "WARNING: Ignoring invalid distribution -rotobuf (c:\\users\\zrowx\\appdata\\roaming\\python\\python39\\site-packages)\n",
      "WARNING: Ignoring invalid distribution -rotobuf (c:\\users\\zrowx\\appdata\\roaming\\python\\python39\\site-packages)\n",
      "WARNING: Ignoring invalid distribution -rotobuf (c:\\users\\zrowx\\appdata\\roaming\\python\\python39\\site-packages)\n"
     ]
    }
   ],
   "source": [
    "# install transformers\n",
    "!pip install transformers"
   ]
  },
  {
   "cell_type": "code",
   "execution_count": 25,
   "id": "7b1e5a44",
   "metadata": {},
   "outputs": [],
   "source": [
    "import os, io\n",
    "from google.cloud import vision\n",
    "from google.cloud.vision_v1 import types\n",
    "from google.cloud import translate_v2 as translate\n",
    "import pandas as pd"
   ]
  },
  {
   "cell_type": "code",
   "execution_count": 26,
   "id": "555311ee",
   "metadata": {},
   "outputs": [],
   "source": [
    "# credential_path = \"C:/Users/zrowx/OneDrive/바탕 화면/python/VisionAPI/ServiceAccountToken.json\"\n",
    "credential_path = \"ServiceAccountToken.json\"\n",
    "os.environ['GOOGLE_APPLICATION_CREDENTIALS'] = credential_path"
   ]
  },
  {
   "cell_type": "code",
   "execution_count": 27,
   "id": "a3c50d2c",
   "metadata": {},
   "outputs": [],
   "source": [
    "client = vision.ImageAnnotatorClient()\n",
    "trans_client = translate.Client()\n",
    "path = 'python_kor.jpg' \n",
    "with io.open(path, 'rb') as image_file:\n",
    "    content = image_file.read()"
   ]
  },
  {
   "cell_type": "code",
   "execution_count": 28,
   "id": "cc27a935",
   "metadata": {},
   "outputs": [],
   "source": [
    "image = vision.Image(content=content)"
   ]
  },
  {
   "cell_type": "code",
   "execution_count": 29,
   "id": "88415fe2",
   "metadata": {},
   "outputs": [],
   "source": [
    "response = client.text_detection(image=image)\n",
    "texts = response.text_annotations"
   ]
  },
  {
   "cell_type": "code",
   "execution_count": 30,
   "id": "e0552fc8",
   "metadata": {},
   "outputs": [],
   "source": [
    "df = pd.DataFrame(columns=['locale', 'description'])\n",
    "for text in texts:\n",
    "        df = df.append(\n",
    "                dict(\n",
    "                        locale=text.locale,\n",
    "                        description=text.description\n",
    "                ),\n",
    "                ignore_index=True\n",
    "        )"
   ]
  },
  {
   "cell_type": "code",
   "execution_count": 31,
   "id": "6a32ae88",
   "metadata": {},
   "outputs": [],
   "source": [
    "# ocr complete\n",
    "text = df['description'][0]"
   ]
  },
  {
   "cell_type": "code",
   "execution_count": 32,
   "id": "bb936d40",
   "metadata": {},
   "outputs": [],
   "source": [
    "# lang detect\n",
    "detected_lang = trans_client.detect_language(text).get('language')"
   ]
  },
  {
   "cell_type": "code",
   "execution_count": 33,
   "id": "cc7606e7",
   "metadata": {},
   "outputs": [],
   "source": [
    "# print(detected_lang)"
   ]
  },
  {
   "cell_type": "code",
   "execution_count": 34,
   "id": "a81f5e74",
   "metadata": {},
   "outputs": [],
   "source": [
    "# translate into english\n",
    "translated = trans_client.translate(df['description'][0], target_language='en')"
   ]
  },
  {
   "cell_type": "code",
   "execution_count": 35,
   "id": "95a7b841",
   "metadata": {},
   "outputs": [],
   "source": [
    "translated = translated.get('translatedText')"
   ]
  },
  {
   "cell_type": "code",
   "execution_count": 36,
   "id": "4c81797f",
   "metadata": {},
   "outputs": [],
   "source": [
    "# print(translated)"
   ]
  },
  {
   "cell_type": "code",
   "execution_count": 37,
   "id": "07207f80",
   "metadata": {},
   "outputs": [],
   "source": [
    "# importing dependencies from transformers\n",
    "from transformers import PegasusForConditionalGeneration, PegasusTokenizer"
   ]
  },
  {
   "cell_type": "code",
   "execution_count": 38,
   "id": "1c0dbb20",
   "metadata": {},
   "outputs": [],
   "source": [
    "# load tokenizer\n",
    "tokenizer = PegasusTokenizer.from_pretrained(\"google/pegasus-xsum\")"
   ]
  },
  {
   "cell_type": "code",
   "execution_count": 39,
   "id": "ddf6d667",
   "metadata": {},
   "outputs": [],
   "source": [
    "# load model\n",
    "model = PegasusForConditionalGeneration.from_pretrained(\"google/pegasus-xsum\")"
   ]
  },
  {
   "cell_type": "code",
   "execution_count": 40,
   "id": "674fe052",
   "metadata": {},
   "outputs": [],
   "source": [
    "# create tokens - number representation of the text\n",
    "tokens = tokenizer(translated, truncation=True, padding=\"longest\", return_tensors=\"pt\")"
   ]
  },
  {
   "cell_type": "code",
   "execution_count": 41,
   "id": "a91fd6bd",
   "metadata": {},
   "outputs": [],
   "source": [
    "# summarize\n",
    "summary = model.generate(**tokens)"
   ]
  },
  {
   "cell_type": "code",
   "execution_count": 42,
   "id": "a2fac033",
   "metadata": {},
   "outputs": [],
   "source": [
    "# decode summary\n",
    "result = tokenizer.decode(summary[0])"
   ]
  },
  {
   "cell_type": "code",
   "execution_count": 43,
   "id": "9679264b",
   "metadata": {},
   "outputs": [],
   "source": [
    "result = result.strip(\"<pad>\")\n",
    "result = result.strip(\"</s>\")"
   ]
  },
  {
   "cell_type": "code",
   "execution_count": 44,
   "id": "ae5032a2",
   "metadata": {},
   "outputs": [],
   "source": [
    "# print(result)"
   ]
  },
  {
   "cell_type": "code",
   "execution_count": 45,
   "id": "d20bb6a7",
   "metadata": {},
   "outputs": [],
   "source": [
    "final_output = trans_client.translate(result, target_language=detected_lang).get('translatedText')"
   ]
  },
  {
   "cell_type": "code",
   "execution_count": 46,
   "id": "be0a5e0e",
   "metadata": {},
   "outputs": [
    {
     "name": "stdout",
     "output_type": "stream",
     "text": [
      "파이썬은 프로그래밍 언어입니다.\n"
     ]
    }
   ],
   "source": [
    "print(final_output)"
   ]
  },
  {
   "cell_type": "code",
   "execution_count": null,
   "id": "71739c2f",
   "metadata": {},
   "outputs": [],
   "source": []
  }
 ],
 "metadata": {
  "kernelspec": {
   "display_name": "Python 3 (ipykernel)",
   "language": "python",
   "name": "python3"
  },
  "language_info": {
   "codemirror_mode": {
    "name": "ipython",
    "version": 3
   },
   "file_extension": ".py",
   "mimetype": "text/x-python",
   "name": "python",
   "nbconvert_exporter": "python",
   "pygments_lexer": "ipython3",
   "version": "3.9.13"
  }
 },
 "nbformat": 4,
 "nbformat_minor": 5
}
